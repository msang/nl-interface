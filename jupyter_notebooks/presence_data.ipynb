{
 "cells": [
  {
   "cell_type": "code",
   "execution_count": null,
   "metadata": {},
   "outputs": [],
   "source": [
    "import pandas as pd\n",
    "\n",
    "dati_presenze = pd.read_excel(\"....xlsx\")\n",
    "#dati_presenze.shape\n",
    "\n",
    "dati_presenze"
   ]
  },
  {
   "cell_type": "code",
   "execution_count": null,
   "metadata": {},
   "outputs": [],
   "source": [
    "from collections import defaultdict as dd\n",
    "import datetime\n",
    "\n",
    "#dd_presenze = dd(list)\n",
    "dd_presenze = dd(dict)\n",
    "\n",
    "\n",
    "for i  in dati_presenze.index:\n",
    "    #print(dati_presenze[\"Data\"][i], dati_presenze[\"T1\"][i])\n",
    "    \"\"\"\n",
    "    dd_presenze[dati_presenze[\"Data\"][i]].append({dati_presenze[\"ID\"][i] : [dati_presenze[\"T1\"][i], dati_presenze[\"T2\"][i], dati_presenze[\"T3\"][i], dati_presenze[\"T4\"][i], \\\n",
    "                                                                            dati_presenze[\"T5\"][i], dati_presenze[\"T6\"][i], dati_presenze[\"T7\"][i], dati_presenze[\"T8\"][i], \\\n",
    "                                                                            dati_presenze[\"T9\"][i], dati_presenze[\"T10\"][i], dati_presenze[\"T11\"][i], dati_presenze[\"T12\"][i]]})\n",
    "    \n",
    "\n",
    "    dd_presenze[dati_presenze[\"Data\"][i]].update({dati_presenze[\"ID\"][i] : [dati_presenze[\"T1\"][i], dati_presenze[\"T2\"][i], dati_presenze[\"T3\"][i], dati_presenze[\"T4\"][i], \\\n",
    "                                                                            dati_presenze[\"T5\"][i], dati_presenze[\"T6\"][i], dati_presenze[\"T7\"][i], dati_presenze[\"T8\"][i], \\\n",
    "                                                                            dati_presenze[\"T9\"][i], dati_presenze[\"T10\"][i], dati_presenze[\"T11\"][i], dati_presenze[\"T12\"][i]]})\n",
    "    \"\"\"\n",
    "    dd_presenze[dati_presenze[\"Data\"][i]].update({dati_presenze[\"ID\"][i] : [dati_presenze[\"T\"+str(ind)][i] for ind in range(1,13) if dati_presenze[\"T\"+str(ind)][i] != datetime.time(0,0)]})\n",
    "\n",
    "for k, v in dd_presenze.items():\n",
    "    print(len(v), k, v)\n",
    "\n"
   ]
  },
  {
   "cell_type": "code",
   "execution_count": null,
   "metadata": {},
   "outputs": [],
   "source": [
    "from datetime import datetime, time, timedelta\n",
    "\n",
    "\"\"\"\n",
    "def to_timestamp(value: datetime.time) -> str:\n",
    "    dt = time(hour = value.hour, minute = value.minute)\n",
    "    dt = dt.strftime(\"%H:%M:%S\") #https://docs.python.org/3/library/time.html#time.strftime\n",
    "    return dt\n",
    "\"\"\"\n",
    "def convert_to_q(orario):\n",
    "    ora, minuti = orario.hour, orario.minute\n",
    "    quarto_dora = ((ora * 60 + minuti) // 15)+1\n",
    "    return quarto_dora\n",
    "\n",
    "\n",
    "def quarter_range(start, end):\n",
    "    quarters = []\n",
    "    current = datetime.combine(datetime.min, start) #converto gli orari in oggetti datetime prima di eseguire l'operazione +=\n",
    "    end = datetime.combine(datetime.min, end)\n",
    "\n",
    "    while current <= end:\n",
    "        q = convert_to_q(current)\n",
    "        quarters.append(q)\n",
    "\n",
    "        current += timedelta(minutes=15)\n",
    "\n",
    "    return quarters\n",
    "\n",
    "#def define_ranges()\n",
    "dd_intervalli = dd(list)\n",
    "for data, info in dd_presenze.items():\n",
    "    for dip, orari in info.items():\n",
    "        #print(orari)\n",
    "        orari_ingresso = orari[::2]\n",
    "        orari_uscita = orari[1::2]\n",
    "        #print(orari_ingresso, orari_uscita)\n",
    "        intervalli=[]\n",
    "        for i in range(len(orari_ingresso)):\n",
    "            try:\n",
    "                print(orari_ingresso[i],  orari_uscita[i])\n",
    "                intervalli += quarter_range(orari_ingresso[i], orari_uscita[i])#pd.date_range(orari_ingresso[i], orari_uscita[i], freq='15T').time\n",
    "                #print(intervallo)\n",
    "            except IndexError:\n",
    "                print(f\"Per l'ID {dip} in data {data.date} non risulta il timbro di uscita dopo l'ingresso delle {orari_ingresso[i]}\")\n",
    "        dd_intervalli[data].append(intervalli)\n",
    "\n",
    "print(dd_intervalli)\n"
   ]
  },
  {
   "cell_type": "code",
   "execution_count": 132,
   "metadata": {},
   "outputs": [
    {
     "data": {
      "text/plain": [
       "array([[0., 0., 0., ..., 0., 0., 0.],\n",
       "       [0., 0., 0., ..., 0., 0., 0.],\n",
       "       [0., 0., 0., ..., 0., 0., 0.],\n",
       "       ...,\n",
       "       [0., 0., 0., ..., 0., 0., 0.],\n",
       "       [0., 0., 0., ..., 0., 0., 0.],\n",
       "       [0., 0., 0., ..., 0., 0., 0.]])"
      ]
     },
     "execution_count": 132,
     "metadata": {},
     "output_type": "execute_result"
    }
   ],
   "source": [
    "import numpy as np\n",
    "\n",
    "def create_q_matrix(dct_intervalli):\n",
    "    matrix = np.zeros((len(dct_intervalli), 96))\n",
    "    for i, (date, ranges) in enumerate(dct_intervalli.items()):\n",
    "        for _range in ranges:\n",
    "            for quarter in _range:\n",
    "                matrix[i, quarter-1] +=1\n",
    "        #matrix[i, ]\n",
    "        \"\"\"\n",
    "        q = [0 for i in range(1,97)]\n",
    "        for _range in ranges:\n",
    "            for quarter in _range:\n",
    "                q[quarter] += 1\n",
    "        all_q.append(q)\n",
    "        \"\"\"\n",
    "\n",
    "    return matrix\n",
    "\n",
    "matrice_presenze = create_q_matrix(dd_intervalli)\n",
    "matrice_presenze\n",
    "\n"
   ]
  },
  {
   "cell_type": "code",
   "execution_count": 128,
   "metadata": {},
   "outputs": [],
   "source": [
    "date = dati_presenze[\"Data\"].unique()\n",
    "q_ora_lab = [f\"Q{str(i)}\" for i in range(1,97)]\n",
    "\n",
    "#date, q_ora\n",
    "\n",
    "df_presenze = pd.DataFrame(data=matrice_presenze)\n",
    "df_presenze.columns = q_ora_lab\n",
    "df_presenze[\"Data\"] = date\n",
    "df_presenze = df_presenze.set_index(\"Data\")\n",
    "df_presenze.to_csv(\"prova_presenze.csv\")\n"
   ]
  },
  {
   "cell_type": "code",
   "execution_count": null,
   "metadata": {},
   "outputs": [],
   "source": [
    "import seaborn as sns\n",
    "\n",
    "p = sns.lineplot(data=df_presenze.T)\n",
    "p.set_title(\"Presenze Rettorato per Quarti d'Ora\")\n",
    "p.set_xlabel(\"Tempo (15 min)\")\n",
    "p.set_ylabel(\"num. presenze\")"
   ]
  }
 ],
 "metadata": {
  "kernelspec": {
   "display_name": "base",
   "language": "python",
   "name": "python3"
  },
  "language_info": {
   "codemirror_mode": {
    "name": "ipython",
    "version": 3
   },
   "file_extension": ".py",
   "mimetype": "text/x-python",
   "name": "python",
   "nbconvert_exporter": "python",
   "pygments_lexer": "ipython3",
   "version": "3.9.16"
  }
 },
 "nbformat": 4,
 "nbformat_minor": 2
}
